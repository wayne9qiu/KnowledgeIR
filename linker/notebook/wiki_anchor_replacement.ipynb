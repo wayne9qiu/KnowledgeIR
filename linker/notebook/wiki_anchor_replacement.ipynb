{
 "cells": [
  {
   "cell_type": "code",
   "execution_count": null,
   "metadata": {
    "collapsed": false
   },
   "outputs": [],
   "source": [
    "%load_ext autoreload\n",
    "%autoreload 2\n",
    "\n",
    "import sys\n",
    "sys.path.insert(0, \"KnowledgeIR\")"
   ]
  },
  {
   "cell_type": "code",
   "execution_count": null,
   "metadata": {
    "collapsed": true
   },
   "outputs": [],
   "source": [
    "import logging\n",
    "logging.basicConfig(format='%(asctime)s %(levelname)s %(message)s', level=logging.INFO)\n",
    "logging.getLogger('rdflib').setLevel(logging.CRITICAL)"
   ]
  },
  {
   "cell_type": "code",
   "execution_count": null,
   "metadata": {
    "collapsed": false
   },
   "outputs": [],
   "source": [
    "output_dir=\"/media/hdd/hdd0/data/freebase_wiki\"\n",
    "wiki_links=\"/media/hdd/hdd0/data/DBpedia/NIF_Abstract_Datasets/nif-text-links_en.ttl.bz2\"\n",
    "wiki_context=\"/media/hdd/hdd0/data/DBpedia/NIF_Abstract_Datasets/nif-abstract-context_en.ttl.bz2\" \n",
    "fb2w=\"/media/hdd/hdd0/data/Freebase/fb2w.nt\"\n",
    "wiki2fb_path=\"/media/hdd/hdd0/data/DBpedia/201604_datasets/freebase_links_en.ttl.bz2\"\n",
    "redirect_path=\"/media/hdd/hdd0/data/DBpedia/201604_datasets/redirects_en.ttl.bz2\"\n",
    "\n",
    "import os\n",
    "if not os.path.exists(output_dir):\n",
    "    os.makedirs(output_dir)"
   ]
  },
  {
   "cell_type": "markdown",
   "metadata": {},
   "source": [
    "## Create and Load Freebase/Wikidata/Wikipedia mapping."
   ]
  },
  {
   "cell_type": "code",
   "execution_count": null,
   "metadata": {
    "collapsed": false
   },
   "outputs": [],
   "source": [
    "from linker.data.freebase_wiki_mapper import FreebaseWikiMapper\n",
    "\n",
    "logging.info(\"Mapping Freebase to Wikipedia.\")\n",
    "mapper = FreebaseWikiMapper(output_dir)\n",
    "mapper.create_mapping_dbpedia(wiki2fb_path)\n",
    "wiki2fb = mapper.read_wiki_fb_mapping()\n",
    "logging.info(\"Done.\")"
   ]
  },
  {
   "cell_type": "markdown",
   "metadata": {},
   "source": [
    "## Create and Load Anchor Positions."
   ]
  },
  {
   "cell_type": "code",
   "execution_count": null,
   "metadata": {
    "collapsed": false,
    "scrolled": true
   },
   "outputs": [],
   "source": [
    "from linker.data import data_utils, wiki_anchor_replacer\n",
    "from linker.data.wiki_anchor_replacer import AnchorPositions, parse_anchor_positions\n",
    "import os\n",
    "\n",
    "logging.info(\"Reading anchors.\")\n",
    "anchor_positions = data_utils.run_or_load(os.path.join(output_dir, \"anchor_positions.pickle\"),\n",
    "                                          parse_anchor_positions, wiki_links)\n",
    "logging.info(\"Done.\")"
   ]
  },
  {
   "cell_type": "markdown",
   "metadata": {},
   "source": [
    "## Load Wikipedia Redirects\n",
    "Note, the redirects stores Unicode objects."
   ]
  },
  {
   "cell_type": "code",
   "execution_count": null,
   "metadata": {
    "collapsed": false
   },
   "outputs": [],
   "source": [
    "from linker.data.wiki_anchor_replacer import load_redirects\n",
    "from linker.data import data_utils\n",
    "\n",
    "logging.info(\"Loading redirect pages.\")\n",
    "redirects = data_utils.run_or_load(os.path.join(output_dir, \"redirects.pickle\"), load_redirects, redirect_path)\n",
    "logging.info(\"Done.\")"
   ]
  },
  {
   "cell_type": "code",
   "execution_count": null,
   "metadata": {
    "collapsed": false
   },
   "outputs": [],
   "source": [
    "print redirects[u\"AccessibleComputing\"]"
   ]
  },
  {
   "cell_type": "markdown",
   "metadata": {},
   "source": [
    "## Write Replaced Text\n",
    "Currently there are a couple missing reasons:\n",
    "1. Incorrect character/byte offset due to unicode (currently working on it)\n",
    "2. Freebase to wikidata mapping is published 2013, not complete (may be replaced by a new dataset) "
   ]
  },
  {
   "cell_type": "code",
   "execution_count": null,
   "metadata": {
    "collapsed": false,
    "scrolled": true
   },
   "outputs": [],
   "source": [
    "from linker.data.wiki_anchor_replacer import write_context_replaced\n",
    "\n",
    "logging.info(\"Writing down replaced text.\")\n",
    "num_wiki_seen, num_anchor, missed_counts = write_context_replaced(wiki2fb, wiki_context, anchor_positions, redirects,\n",
    "                                                                  os.path.join(output_dir, \"fb_replace.log\"),\n",
    "                                                                  os.path.join(output_dir, \"fb_replaced.txt\"))"
   ]
  },
  {
   "cell_type": "code",
   "execution_count": null,
   "metadata": {
    "collapsed": false,
    "scrolled": true
   },
   "outputs": [],
   "source": [
    "logging.info(\"Writing down both text.\")\n",
    "num_wiki_seen, num_anchor, missed_counts = write_context_replaced(wiki2fb, wiki_context, anchor_positions, redirects,\n",
    "                                           os.path.join(output_dir, \"fb_replace_both.log\"),\n",
    "                                           os.path.join(output_dir, \"origin_and_replaced.txt\"), True)"
   ]
  },
  {
   "cell_type": "code",
   "execution_count": null,
   "metadata": {
    "collapsed": false
   },
   "outputs": [],
   "source": [
    "from linker.data.wiki_anchor_replacer import print_replacement_stats\n",
    "\n",
    "print_replacement_stats(num_wiki_seen, num_anchor, missed_counts, os.path.join(output_dir, \"replacement_stat.txt\"))"
   ]
  }
 ],
 "metadata": {
  "kernelspec": {
   "display_name": "Python 2",
   "language": "python",
   "name": "python2"
  },
  "language_info": {
   "codemirror_mode": {
    "name": "ipython",
    "version": 2
   },
   "file_extension": ".py",
   "mimetype": "text/x-python",
   "name": "python",
   "nbconvert_exporter": "python",
   "pygments_lexer": "ipython2",
   "version": "2.7.12"
  }
 },
 "nbformat": 4,
 "nbformat_minor": 2
}
